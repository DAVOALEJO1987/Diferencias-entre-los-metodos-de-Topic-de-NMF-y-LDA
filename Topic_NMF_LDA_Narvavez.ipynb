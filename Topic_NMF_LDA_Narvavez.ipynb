{
  "nbformat": 4,
  "nbformat_minor": 0,
  "metadata": {
    "colab": {
      "provenance": []
    },
    "kernelspec": {
      "name": "python3",
      "display_name": "Python 3"
    },
    "language_info": {
      "name": "python"
    }
  },
  "cells": [
    {
      "cell_type": "code",
      "metadata": {
        "colab": {
          "base_uri": "https://localhost:8080/"
        },
        "id": "937ddc49",
        "outputId": "42a47634-14c9-48a1-e645-82dcfd793ab6"
      },
      "source": [
        "%pip install gensim"
      ],
      "execution_count": 3,
      "outputs": [
        {
          "output_type": "stream",
          "name": "stdout",
          "text": [
            "Requirement already satisfied: gensim in /usr/local/lib/python3.12/dist-packages (4.3.3)\n",
            "Requirement already satisfied: numpy<2.0,>=1.18.5 in /usr/local/lib/python3.12/dist-packages (from gensim) (1.26.4)\n",
            "Requirement already satisfied: scipy<1.14.0,>=1.7.0 in /usr/local/lib/python3.12/dist-packages (from gensim) (1.13.1)\n",
            "Requirement already satisfied: smart-open>=1.8.1 in /usr/local/lib/python3.12/dist-packages (from gensim) (7.3.0.post1)\n",
            "Requirement already satisfied: wrapt in /usr/local/lib/python3.12/dist-packages (from smart-open>=1.8.1->gensim) (1.17.3)\n"
          ]
        }
      ]
    },
    {
      "cell_type": "code",
      "execution_count": 4,
      "metadata": {
        "colab": {
          "base_uri": "https://localhost:8080/"
        },
        "id": "OGJtoLTJqKcC",
        "outputId": "14692a78-67af-4c9f-a69b-7e1aca70877d"
      },
      "outputs": [
        {
          "output_type": "stream",
          "name": "stdout",
          "text": [
            "🔹 Temas con NMF (TF-IDF)\n",
            "Tema 1: desafíos, economía, global, robótica, impulsa, industrial, automatización, la\n",
            "Tema 2: influye, económicas, comercio, internacional, salud, el, en, las\n",
            "Tema 3: equipo, física, los, alimenticios, previenen, enfermedades, saludables, hábitos\n",
            "\n",
            "🔹 Temas con LDA (BoW)\n",
            "Tema 1: 0.114*\"la\" + 0.035*\"expandió\" + 0.035*\"educación\" + 0.035*\"línea\" + 0.035*\"se\" + 0.035*\"durante\" + 0.035*\"pandemia.\" + 0.035*\"previenen\"\n",
            "Tema 2: 0.092*\"la\" + 0.037*\"las\" + 0.037*\"salud\" + 0.037*\"vacunas\" + 0.037*\"sido\" + 0.037*\"mundial.\" + 0.037*\"han\" + 0.037*\"fundamentales\"\n",
            "Tema 3: 0.072*\"en\" + 0.050*\"el\" + 0.050*\"y\" + 0.050*\"la\" + 0.029*\"los\" + 0.029*\"deportes\" + 0.029*\"equipo.\" + 0.029*\"fomentan\"\n"
          ]
        }
      ],
      "source": [
        "# ==============================\n",
        "# 📌 Comparación NMF vs LDA\n",
        "# ==============================\n",
        "\n",
        "from sklearn.feature_extraction.text import TfidfVectorizer, CountVectorizer\n",
        "from sklearn.decomposition import NMF\n",
        "from gensim import corpora\n",
        "from gensim.models import LdaModel\n",
        "\n",
        "# ----------------------------\n",
        "# 1. Corpus de ejemplo (el mismo que ya tienes definido)\n",
        "# ----------------------------\n",
        "documentos = [\n",
        "    \"La inteligencia artificial avanza rápidamente en aplicaciones médicas y tecnológicas.\",\n",
        "    \"Las vacunas han sido fundamentales en la salud pública mundial.\",\n",
        "    \"La economía global enfrenta desafíos debido a la inflación.\",\n",
        "    \"Los deportes fomentan la salud física y el trabajo en equipo.\",\n",
        "    \"La educación en línea se expandió durante la pandemia.\",\n",
        "    \"La robótica impulsa la automatización industrial.\",\n",
        "    \"Los hábitos alimenticios saludables previenen enfermedades.\",\n",
        "    \"El comercio internacional influye en las políticas económicas.\"\n",
        "]\n",
        "\n",
        "# ----------------------------\n",
        "# 2. NMF con TF-IDF\n",
        "# ----------------------------\n",
        "tfidf_vectorizer = TfidfVectorizer(max_features=1000)\n",
        "X_tfidf = tfidf_vectorizer.fit_transform(documentos)\n",
        "\n",
        "nmf_model = NMF(n_components=3, random_state=42)\n",
        "nmf_model.fit(X_tfidf)\n",
        "\n",
        "print(\"🔹 Temas con NMF (TF-IDF)\")\n",
        "feature_names = tfidf_vectorizer.get_feature_names_out()\n",
        "for idx, topic in enumerate(nmf_model.components_):\n",
        "    top_words = [feature_names[i] for i in topic.argsort()[-8:]]\n",
        "    print(f\"Tema {idx+1}: {', '.join(top_words)}\")\n",
        "\n",
        "# ----------------------------\n",
        "# 3. LDA con Bag of Words (gensim)\n",
        "# ----------------------------\n",
        "# Tokenización básica\n",
        "tokenized_docs = [doc.lower().split() for doc in documentos]\n",
        "\n",
        "# Diccionario y corpus en formato BoW\n",
        "dictionary = corpora.Dictionary(tokenized_docs)\n",
        "corpus_bow = [dictionary.doc2bow(text) for text in tokenized_docs]\n",
        "\n",
        "lda_model = LdaModel(corpus=corpus_bow,\n",
        "                     id2word=dictionary,\n",
        "                     num_topics=3,\n",
        "                     passes=10,\n",
        "                     random_state=42)\n",
        "\n",
        "print(\"\\n🔹 Temas con LDA (BoW)\")\n",
        "for idx, topic in lda_model.print_topics(num_topics=3, num_words=8):\n",
        "    print(f\"Tema {idx+1}: {topic}\")"
      ]
    },
    {
      "cell_type": "code",
      "source": [
        "%pip install pyldavis"
      ],
      "metadata": {
        "colab": {
          "base_uri": "https://localhost:8080/"
        },
        "id": "JgqDssQDsbmQ",
        "outputId": "8f94e326-cbce-4bdc-c60f-6aed63fb868a"
      },
      "execution_count": 5,
      "outputs": [
        {
          "output_type": "stream",
          "name": "stdout",
          "text": [
            "Requirement already satisfied: pyldavis in /usr/local/lib/python3.12/dist-packages (3.4.1)\n",
            "Requirement already satisfied: numpy>=1.24.2 in /usr/local/lib/python3.12/dist-packages (from pyldavis) (1.26.4)\n",
            "Requirement already satisfied: scipy in /usr/local/lib/python3.12/dist-packages (from pyldavis) (1.13.1)\n",
            "Requirement already satisfied: pandas>=2.0.0 in /usr/local/lib/python3.12/dist-packages (from pyldavis) (2.2.2)\n",
            "Requirement already satisfied: joblib>=1.2.0 in /usr/local/lib/python3.12/dist-packages (from pyldavis) (1.5.1)\n",
            "Requirement already satisfied: jinja2 in /usr/local/lib/python3.12/dist-packages (from pyldavis) (3.1.6)\n",
            "Requirement already satisfied: numexpr in /usr/local/lib/python3.12/dist-packages (from pyldavis) (2.11.0)\n",
            "Requirement already satisfied: funcy in /usr/local/lib/python3.12/dist-packages (from pyldavis) (2.0)\n",
            "Requirement already satisfied: scikit-learn>=1.0.0 in /usr/local/lib/python3.12/dist-packages (from pyldavis) (1.6.1)\n",
            "Requirement already satisfied: gensim in /usr/local/lib/python3.12/dist-packages (from pyldavis) (4.3.3)\n",
            "Requirement already satisfied: setuptools in /usr/local/lib/python3.12/dist-packages (from pyldavis) (75.2.0)\n",
            "Requirement already satisfied: python-dateutil>=2.8.2 in /usr/local/lib/python3.12/dist-packages (from pandas>=2.0.0->pyldavis) (2.9.0.post0)\n",
            "Requirement already satisfied: pytz>=2020.1 in /usr/local/lib/python3.12/dist-packages (from pandas>=2.0.0->pyldavis) (2025.2)\n",
            "Requirement already satisfied: tzdata>=2022.7 in /usr/local/lib/python3.12/dist-packages (from pandas>=2.0.0->pyldavis) (2025.2)\n",
            "Requirement already satisfied: threadpoolctl>=3.1.0 in /usr/local/lib/python3.12/dist-packages (from scikit-learn>=1.0.0->pyldavis) (3.6.0)\n",
            "Requirement already satisfied: smart-open>=1.8.1 in /usr/local/lib/python3.12/dist-packages (from gensim->pyldavis) (7.3.0.post1)\n",
            "Requirement already satisfied: MarkupSafe>=2.0 in /usr/local/lib/python3.12/dist-packages (from jinja2->pyldavis) (3.0.2)\n",
            "Requirement already satisfied: six>=1.5 in /usr/local/lib/python3.12/dist-packages (from python-dateutil>=2.8.2->pandas>=2.0.0->pyldavis) (1.17.0)\n",
            "Requirement already satisfied: wrapt in /usr/local/lib/python3.12/dist-packages (from smart-open>=1.8.1->gensim->pyldavis) (1.17.3)\n"
          ]
        }
      ]
    },
    {
      "cell_type": "code",
      "metadata": {
        "colab": {
          "base_uri": "https://localhost:8080/",
          "height": 1000
        },
        "id": "b5e33e1f",
        "outputId": "fb99bf13-9309-46a2-cde2-4aa8e28a2db9"
      },
      "source": [
        "import pyLDAvis.gensim_models\n",
        "import pyLDAvis\n",
        "\n",
        "# Prepare the visualization data\n",
        "vis_data = pyLDAvis.gensim_models.prepare(lda_model, corpus_bow, dictionary)\n",
        "\n",
        "# Display the visualization\n",
        "pyLDAvis.display(vis_data)"
      ],
      "execution_count": 6,
      "outputs": [
        {
          "output_type": "stream",
          "name": "stderr",
          "text": [
            "/usr/local/lib/python3.12/dist-packages/jupyter_client/session.py:151: DeprecationWarning: datetime.datetime.utcnow() is deprecated and scheduled for removal in a future version. Use timezone-aware objects to represent datetimes in UTC: datetime.datetime.now(datetime.UTC).\n",
            "  return datetime.utcnow().replace(tzinfo=utc)\n"
          ]
        },
        {
          "output_type": "execute_result",
          "data": {
            "text/plain": [
              "<IPython.core.display.HTML object>"
            ],
            "text/html": [
              "\n",
              "<link rel=\"stylesheet\" type=\"text/css\" href=\"https://cdn.jsdelivr.net/gh/bmabey/pyLDAvis@3.4.0/pyLDAvis/js/ldavis.v1.0.0.css\">\n",
              "\n",
              "\n",
              "<div id=\"ldavis_el8521390092540245282032368444\" style=\"background-color:white;\"></div>\n",
              "<script type=\"text/javascript\">\n",
              "\n",
              "var ldavis_el8521390092540245282032368444_data = {\"mdsDat\": {\"x\": [0.08395094140662347, -0.06795902512976694, -0.015991916276856498], \"y\": [-0.0252707356580994, -0.04860053971027913, 0.07387127536837854], \"topics\": [1, 2, 3], \"cluster\": [1, 1, 1], \"Freq\": [41.51800272691801, 30.097975762490382, 28.3840215105916]}, \"tinfo\": {\"Term\": [\"la\", \"vacunas\", \"sido\", \"mundial.\", \"han\", \"fundamentales\", \"p\\u00fablica\", \"enfrenta\", \"debido\", \"econom\\u00eda\", \"desaf\\u00edos\", \"a\", \"inflaci\\u00f3n.\", \"global\", \"el\", \"y\", \"expandi\\u00f3\", \"educaci\\u00f3n\", \"l\\u00ednea\", \"se\", \"durante\", \"pandemia.\", \"previenen\", \"industrial.\", \"saludables\", \"rob\\u00f3tica\", \"automatizaci\\u00f3n\", \"alimenticios\", \"impulsa\", \"h\\u00e1bitos\", \"el\", \"y\", \"deportes\", \"equipo.\", \"fomentan\", \"f\\u00edsica\", \"trabajo\", \"internacional\", \"econ\\u00f3micas.\", \"comercio\", \"influye\", \"pol\\u00edticas\", \"artificial\", \"avanza\", \"r\\u00e1pidamente\", \"tecnol\\u00f3gicas.\", \"aplicaciones\", \"m\\u00e9dicas\", \"inteligencia\", \"en\", \"los\", \"salud\", \"las\", \"la\", \"econom\\u00eda\", \"global\", \"inflaci\\u00f3n.\", \"enfrenta\", \"a\", \"desaf\\u00edos\", \"expandi\\u00f3\", \"educaci\\u00f3n\", \"l\\u00ednea\", \"se\", \"durante\", \"pandemia.\", \"previenen\", \"saludables\", \"industrial.\", \"rob\\u00f3tica\", \"automatizaci\\u00f3n\", \"alimenticios\", \"impulsa\", \"h\\u00e1bitos\", \"enfermedades.\", \"la\", \"los\", \"en\", \"inflaci\\u00f3n.\", \"global\", \"a\", \"desaf\\u00edos\", \"debido\", \"econom\\u00eda\", \"enfrenta\", \"p\\u00fablica\", \"han\", \"mundial.\", \"sido\", \"fundamentales\", \"inteligencia\", \"m\\u00e9dicas\", \"aplicaciones\", \"tecnol\\u00f3gicas.\", \"r\\u00e1pidamente\", \"avanza\", \"artificial\", \"vacunas\", \"sido\", \"mundial.\", \"han\", \"fundamentales\", \"p\\u00fablica\", \"enfrenta\", \"debido\", \"econom\\u00eda\", \"desaf\\u00edos\", \"a\", \"inflaci\\u00f3n.\", \"global\", \"las\", \"salud\", \"la\", \"en\", \"automatizaci\\u00f3n\", \"impulsa\", \"h\\u00e1bitos\", \"rob\\u00f3tica\", \"industrial.\", \"alimenticios\", \"enfermedades.\", \"previenen\", \"saludables\", \"durante\", \"pandemia.\", \"se\", \"l\\u00ednea\", \"los\", \"pol\\u00edticas\", \"comercio\", \"m\\u00e9dicas\"], \"Freq\": [5.0, 1.0, 1.0, 1.0, 1.0, 1.0, 1.0, 1.0, 1.0, 1.0, 1.0, 1.0, 1.0, 1.0, 1.0, 1.0, 1.0, 1.0, 1.0, 1.0, 1.0, 1.0, 1.0, 1.0, 1.0, 1.0, 1.0, 1.0, 1.0, 1.0, 1.4432709546945488, 1.4415457197806767, 0.8246153320472859, 0.824584970217953, 0.8245726974222647, 0.8245487387906821, 0.824545110311957, 0.8244876416121475, 0.8244851336930286, 0.8244693924985589, 0.8244690723386714, 0.8244557323433581, 0.8222781648684045, 0.8222263523266079, 0.822158691870379, 0.8220715550209929, 0.8220326022346782, 0.8220109380822895, 0.8219755070547375, 2.0716255009742817, 0.8254592735107833, 0.8236693662996327, 0.8224291202553693, 1.4278142756449552, 0.2080352926108069, 0.20801156075914462, 0.2079184075718722, 0.20788242960451236, 0.2078387010998755, 0.2078266017241264, 0.7206537553761412, 0.7206334082888847, 0.7206310099630102, 0.7206166200077642, 0.7206079550884762, 0.7206056341279526, 0.7205014230004446, 0.720495156407031, 0.720491907062298, 0.7204861046609892, 0.7204642876320676, 0.7204651386509262, 0.7204525280987483, 0.7204463388706854, 0.7204450236597221, 2.357881899380309, 0.7201863139266955, 0.7165431021928578, 0.18258122210410685, 0.182524010427201, 0.18236893158155157, 0.1822974653387635, 0.1821832160569911, 0.18194779329455096, 0.1818956103654462, 0.18045251447724514, 0.18043690601772416, 0.18043640314294407, 0.18043209002463778, 0.18043032996290742, 0.18270152522457822, 0.18263837575699962, 0.18262528167137917, 0.18261566902654408, 0.18252722108925862, 0.18246333665084752, 0.1824182326513396, 0.7190606882009959, 0.7190421564329879, 0.7190410620372394, 0.7190344227030318, 0.7190332553475667, 0.7189967025295667, 0.7163247717894536, 0.7162239414611582, 0.7161394541093737, 0.7159725222778687, 0.7158906614758807, 0.7156093288087986, 0.7155851061828984, 0.7211970946215078, 0.7201763881867369, 1.7979016440115896, 0.7159916377236092, 0.18017996627886093, 0.1801727797467791, 0.18016809208498968, 0.18015552477381103, 0.18015138430989586, 0.18014140706865533, 0.18014107874993077, 0.18013082790975313, 0.18012975175393375, 0.18007649116083993, 0.18007273373543672, 0.1800723142170665, 0.18005695619672915, 0.18032234716574125, 0.18011494093147068, 0.18011439373359645, 0.18011291629933596], \"Total\": [5.0, 1.0, 1.0, 1.0, 1.0, 1.0, 1.0, 1.0, 1.0, 1.0, 1.0, 1.0, 1.0, 1.0, 1.0, 1.0, 1.0, 1.0, 1.0, 1.0, 1.0, 1.0, 1.0, 1.0, 1.0, 1.0, 1.0, 1.0, 1.0, 1.0, 1.8038602710937799, 1.8036426327877535, 1.185090923744823, 1.1850870699750011, 1.1850855161181264, 1.1850824064612342, 1.185081953266117, 1.185074573683349, 1.1850742414722004, 1.185072333621529, 1.1850722298217342, 1.1850704966640793, 1.1847959986708068, 1.1847895090076677, 1.184780972368344, 1.1847699350242142, 1.1847650363877846, 1.1847622301386251, 1.1847579010231497, 3.504160240890749, 1.72596793460322, 1.7244981616887067, 1.7243393732209185, 5.583597819036854, 1.1061225400147316, 1.106120677369244, 1.1061089584847776, 1.106102811759412, 1.1060982941573076, 1.1060965893407586, 1.107159881245466, 1.1071620511339928, 1.107161238699332, 1.107161046184831, 1.1071616274075355, 1.1071625391791529, 1.1071690218274814, 1.107169963215338, 1.1071673759539347, 1.1071675149159081, 1.1071671245530958, 1.1071726379465636, 1.1071698960000647, 1.1071715053458255, 1.107175579648419, 5.583597819036854, 1.72596793460322, 3.504160240890749, 1.1061089584847776, 1.106120677369244, 1.1060982941573076, 1.1060965893407586, 1.1060761071776637, 1.1061225400147316, 1.106102811759412, 1.1059186076077683, 1.1059154667105844, 1.105914452932524, 1.1059148626886914, 1.1059165543771998, 1.1847579010231497, 1.1847622301386251, 1.1847650363877846, 1.1847699350242142, 1.184780972368344, 1.1847895090076677, 1.1847959986708068, 1.1059139805069116, 1.1059148626886914, 1.105914452932524, 1.1059154667105844, 1.1059165543771998, 1.1059186076077683, 1.106102811759412, 1.1060761071776637, 1.1061225400147316, 1.1060965893407586, 1.1060982941573076, 1.1061089584847776, 1.106120677369244, 1.7243393732209185, 1.7244981616887067, 5.583597819036854, 3.504160240890749, 1.1071671245530958, 1.1071698960000647, 1.1071715053458255, 1.1071675149159081, 1.1071673759539347, 1.1071726379465636, 1.107175579648419, 1.1071690218274814, 1.107169963215338, 1.1071616274075355, 1.1071625391791529, 1.107161046184831, 1.107161238699332, 1.72596793460322, 1.1850704966640793, 1.185072333621529, 1.1847622301386251], \"Category\": [\"Default\", \"Default\", \"Default\", \"Default\", \"Default\", \"Default\", \"Default\", \"Default\", \"Default\", \"Default\", \"Default\", \"Default\", \"Default\", \"Default\", \"Default\", \"Default\", \"Default\", \"Default\", \"Default\", \"Default\", \"Default\", \"Default\", \"Default\", \"Default\", \"Default\", \"Default\", \"Default\", \"Default\", \"Default\", \"Default\", \"Topic1\", \"Topic1\", \"Topic1\", \"Topic1\", \"Topic1\", \"Topic1\", \"Topic1\", \"Topic1\", \"Topic1\", \"Topic1\", \"Topic1\", \"Topic1\", \"Topic1\", \"Topic1\", \"Topic1\", \"Topic1\", \"Topic1\", \"Topic1\", \"Topic1\", \"Topic1\", \"Topic1\", \"Topic1\", \"Topic1\", \"Topic1\", \"Topic1\", \"Topic1\", \"Topic1\", \"Topic1\", \"Topic1\", \"Topic1\", \"Topic2\", \"Topic2\", \"Topic2\", \"Topic2\", \"Topic2\", \"Topic2\", \"Topic2\", \"Topic2\", \"Topic2\", \"Topic2\", \"Topic2\", \"Topic2\", \"Topic2\", \"Topic2\", \"Topic2\", \"Topic2\", \"Topic2\", \"Topic2\", \"Topic2\", \"Topic2\", \"Topic2\", \"Topic2\", \"Topic2\", \"Topic2\", \"Topic2\", \"Topic2\", \"Topic2\", \"Topic2\", \"Topic2\", \"Topic2\", \"Topic2\", \"Topic2\", \"Topic2\", \"Topic2\", \"Topic2\", \"Topic2\", \"Topic2\", \"Topic3\", \"Topic3\", \"Topic3\", \"Topic3\", \"Topic3\", \"Topic3\", \"Topic3\", \"Topic3\", \"Topic3\", \"Topic3\", \"Topic3\", \"Topic3\", \"Topic3\", \"Topic3\", \"Topic3\", \"Topic3\", \"Topic3\", \"Topic3\", \"Topic3\", \"Topic3\", \"Topic3\", \"Topic3\", \"Topic3\", \"Topic3\", \"Topic3\", \"Topic3\", \"Topic3\", \"Topic3\", \"Topic3\", \"Topic3\", \"Topic3\", \"Topic3\", \"Topic3\", \"Topic3\"], \"logprob\": [30.0, 29.0, 28.0, 27.0, 26.0, 25.0, 24.0, 23.0, 22.0, 21.0, 20.0, 19.0, 18.0, 17.0, 16.0, 15.0, 14.0, 13.0, 12.0, 11.0, 10.0, 9.0, 8.0, 7.0, 6.0, 5.0, 4.0, 3.0, 2.0, 1.0, -2.9882, -2.9893, -3.5479, -3.5479, -3.548, -3.548, -3.548, -3.5481, -3.5481, -3.5481, -3.5481, -3.5481, -3.5507, -3.5508, -3.5509, -3.551, -3.551, -3.5511, -3.5511, -2.6267, -3.5469, -3.549, -3.5506, -2.9989, -4.9251, -4.9252, -4.9257, -4.9258, -4.9261, -4.9261, -3.361, -3.361, -3.361, -3.361, -3.3611, -3.3611, -3.3612, -3.3612, -3.3612, -3.3612, -3.3613, -3.3613, -3.3613, -3.3613, -3.3613, -2.1756, -3.3616, -3.3667, -4.734, -4.7343, -4.7351, -4.7355, -4.7361, -4.7374, -4.7377, -4.7457, -4.7458, -4.7458, -4.7458, -4.7458, -4.7333, -4.7336, -4.7337, -4.7338, -4.7343, -4.7346, -4.7348, -3.3046, -3.3046, -3.3046, -3.3046, -3.3046, -3.3047, -3.3084, -3.3085, -3.3086, -3.3089, -3.309, -3.3094, -3.3094, -3.3016, -3.303, -2.3881, -3.3088, -4.6886, -4.6886, -4.6886, -4.6887, -4.6887, -4.6888, -4.6888, -4.6888, -4.6888, -4.6891, -4.6892, -4.6892, -4.6892, -4.6878, -4.6889, -4.6889, -4.6889], \"loglift\": [30.0, 29.0, 28.0, 27.0, 26.0, 25.0, 24.0, 23.0, 22.0, 21.0, 20.0, 19.0, 18.0, 17.0, 16.0, 15.0, 14.0, 13.0, 12.0, 11.0, 10.0, 9.0, 8.0, 7.0, 6.0, 5.0, 4.0, 3.0, 2.0, 1.0, 0.656, 0.655, 0.5164, 0.5164, 0.5163, 0.5163, 0.5163, 0.5162, 0.5162, 0.5162, 0.5162, 0.5162, 0.5138, 0.5137, 0.5137, 0.5136, 0.5135, 0.5135, 0.5135, 0.3534, 0.1414, 0.1401, 0.1387, -0.4846, -0.7919, -0.792, -0.7924, -0.7926, -0.7928, -0.7928, 0.7713, 0.7713, 0.7713, 0.7713, 0.7713, 0.7712, 0.7711, 0.7711, 0.7711, 0.7711, 0.771, 0.771, 0.771, 0.771, 0.771, 0.3386, 0.3267, -0.3866, -0.6007, -0.601, -0.6019, -0.6022, -0.6028, -0.6042, -0.6045, -0.6123, -0.6123, -0.6123, -0.6124, -0.6124, -0.6687, -0.6691, -0.6692, -0.6692, -0.6697, -0.6701, -0.6703, 0.8289, 0.8288, 0.8288, 0.8288, 0.8288, 0.8288, 0.8249, 0.8248, 0.8246, 0.8244, 0.8243, 0.8239, 0.8238, 0.3877, 0.3861, 0.1261, -0.3287, -0.5563, -0.5563, -0.5563, -0.5564, -0.5564, -0.5565, -0.5565, -0.5565, -0.5565, -0.5568, -0.5569, -0.5569, -0.5569, -0.9995, -0.6246, -0.6246, -0.6244]}, \"token.table\": {\"Topic\": [3, 2, 1, 1, 2, 1, 1, 3, 1, 3, 2, 3, 1, 2, 1, 1, 2, 3, 2, 3, 1, 2, 1, 3, 1, 3, 3, 2, 2, 2, 3, 1, 1, 1, 1, 2, 3, 1, 3, 1, 2, 2, 3, 1, 2, 1, 2, 3, 2, 1, 1, 3, 2, 2, 3, 1, 1, 3, 1], \"Freq\": [0.9040787833072831, 0.9032015114234279, 0.8440492159094157, 0.8440271583647102, 0.9032060091231904, 0.8440317815082276, 0.8438303482657838, 0.9040969183862633, 0.8438171113825209, 0.9040801767556368, 0.9032104936128803, 0.9040589661853213, 0.8438289897835554, 0.9032101479415467, 0.5543666635518532, 0.5707501548192913, 0.2853750774096456, 0.2853750774096456, 0.9031991116689437, 0.9040750908221266, 0.8438198553808325, 0.9032119181152773, 0.8438209617780211, 0.9042273542628657, 0.8438231759646931, 0.9040604885701644, 0.9042282435694498, 0.9032024353694413, 0.9032037482348071, 0.9032058040351855, 0.9040700668131891, 0.8438304221763986, 0.8440542993099317, 0.843828753233549, 0.17909599373195823, 0.35819198746391645, 0.35819198746391645, 0.5799322427649991, 0.5799322427649991, 0.5793850395198034, 0.5793850395198034, 0.9032108107169444, 0.9042290724642639, 0.8440512151395925, 0.9032097498000584, 0.8438316562727327, 0.9032044613652671, 0.9042256754890103, 0.9032056906727003, 0.8440378629655302, 0.5798788437215582, 0.5798788437215582, 0.9032036934021357, 0.903210967768332, 0.9042287374353646, 0.8440457260417923, 0.8438234986567585, 0.9042294587338842, 0.5544335567486426], \"Term\": [\"a\", \"alimenticios\", \"aplicaciones\", \"artificial\", \"automatizaci\\u00f3n\", \"avanza\", \"comercio\", \"debido\", \"deportes\", \"desaf\\u00edos\", \"durante\", \"econom\\u00eda\", \"econ\\u00f3micas.\", \"educaci\\u00f3n\", \"el\", \"en\", \"en\", \"en\", \"enfermedades.\", \"enfrenta\", \"equipo.\", \"expandi\\u00f3\", \"fomentan\", \"fundamentales\", \"f\\u00edsica\", \"global\", \"han\", \"h\\u00e1bitos\", \"impulsa\", \"industrial.\", \"inflaci\\u00f3n.\", \"influye\", \"inteligencia\", \"internacional\", \"la\", \"la\", \"la\", \"las\", \"las\", \"los\", \"los\", \"l\\u00ednea\", \"mundial.\", \"m\\u00e9dicas\", \"pandemia.\", \"pol\\u00edticas\", \"previenen\", \"p\\u00fablica\", \"rob\\u00f3tica\", \"r\\u00e1pidamente\", \"salud\", \"salud\", \"saludables\", \"se\", \"sido\", \"tecnol\\u00f3gicas.\", \"trabajo\", \"vacunas\", \"y\"]}, \"R\": 30, \"lambda.step\": 0.01, \"plot.opts\": {\"xlab\": \"PC1\", \"ylab\": \"PC2\"}, \"topic.order\": [3, 1, 2]};\n",
              "\n",
              "function LDAvis_load_lib(url, callback){\n",
              "  var s = document.createElement('script');\n",
              "  s.src = url;\n",
              "  s.async = true;\n",
              "  s.onreadystatechange = s.onload = callback;\n",
              "  s.onerror = function(){console.warn(\"failed to load library \" + url);};\n",
              "  document.getElementsByTagName(\"head\")[0].appendChild(s);\n",
              "}\n",
              "\n",
              "if(typeof(LDAvis) !== \"undefined\"){\n",
              "   // already loaded: just create the visualization\n",
              "   !function(LDAvis){\n",
              "       new LDAvis(\"#\" + \"ldavis_el8521390092540245282032368444\", ldavis_el8521390092540245282032368444_data);\n",
              "   }(LDAvis);\n",
              "}else if(typeof define === \"function\" && define.amd){\n",
              "   // require.js is available: use it to load d3/LDAvis\n",
              "   require.config({paths: {d3: \"https://d3js.org/d3.v5\"}});\n",
              "   require([\"d3\"], function(d3){\n",
              "      window.d3 = d3;\n",
              "      LDAvis_load_lib(\"https://cdn.jsdelivr.net/gh/bmabey/pyLDAvis@3.4.0/pyLDAvis/js/ldavis.v3.0.0.js\", function(){\n",
              "        new LDAvis(\"#\" + \"ldavis_el8521390092540245282032368444\", ldavis_el8521390092540245282032368444_data);\n",
              "      });\n",
              "    });\n",
              "}else{\n",
              "    // require.js not available: dynamically load d3 & LDAvis\n",
              "    LDAvis_load_lib(\"https://d3js.org/d3.v5.js\", function(){\n",
              "         LDAvis_load_lib(\"https://cdn.jsdelivr.net/gh/bmabey/pyLDAvis@3.4.0/pyLDAvis/js/ldavis.v3.0.0.js\", function(){\n",
              "                 new LDAvis(\"#\" + \"ldavis_el8521390092540245282032368444\", ldavis_el8521390092540245282032368444_data);\n",
              "            })\n",
              "         });\n",
              "}\n",
              "</script>"
            ]
          },
          "metadata": {},
          "execution_count": 6
        },
        {
          "output_type": "stream",
          "name": "stderr",
          "text": [
            "/usr/local/lib/python3.12/dist-packages/jupyter_client/session.py:151: DeprecationWarning: datetime.datetime.utcnow() is deprecated and scheduled for removal in a future version. Use timezone-aware objects to represent datetimes in UTC: datetime.datetime.now(datetime.UTC).\n",
            "  return datetime.utcnow().replace(tzinfo=utc)\n",
            "/usr/local/lib/python3.12/dist-packages/jupyter_client/session.py:151: DeprecationWarning: datetime.datetime.utcnow() is deprecated and scheduled for removal in a future version. Use timezone-aware objects to represent datetimes in UTC: datetime.datetime.now(datetime.UTC).\n",
            "  return datetime.utcnow().replace(tzinfo=utc)\n",
            "/usr/local/lib/python3.12/dist-packages/jupyter_client/session.py:151: DeprecationWarning: datetime.datetime.utcnow() is deprecated and scheduled for removal in a future version. Use timezone-aware objects to represent datetimes in UTC: datetime.datetime.now(datetime.UTC).\n",
            "  return datetime.utcnow().replace(tzinfo=utc)\n"
          ]
        }
      ]
    }
  ]
}